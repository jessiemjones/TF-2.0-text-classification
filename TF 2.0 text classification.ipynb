{
 "cells": [
  {
   "cell_type": "code",
   "execution_count": 2,
   "metadata": {},
   "outputs": [
    {
     "name": "stdout",
     "output_type": "stream",
     "text": [
      "2.0.0-alpha0\n"
     ]
    }
   ],
   "source": [
    "from __future__ import absolute_import, division, print_function\n",
    "import tensorflow as tf\n",
    "from tensorflow import keras\n",
    "\n",
    "import numpy as np\n",
    "print(tf.__version__)"
   ]
  },
  {
   "cell_type": "code",
   "execution_count": 3,
   "metadata": {},
   "outputs": [
    {
     "name": "stdout",
     "output_type": "stream",
     "text": [
      "Downloading data from https://storage.googleapis.com/tensorflow/tf-keras-datasets/imdb.npz\n",
      "17465344/17464789 [==============================] - 6s 0us/step\n"
     ]
    }
   ],
   "source": [
    "imdb = keras.datasets.imdb\n",
    "(train_data, train_labels), (test_data, test_labels), = imdb.load_data(num_words=10000)"
   ]
  },
  {
   "cell_type": "code",
   "execution_count": 4,
   "metadata": {},
   "outputs": [
    {
     "name": "stdout",
     "output_type": "stream",
     "text": [
      "Training entries: 25000, labels: 25000\n"
     ]
    }
   ],
   "source": [
    "print('Training entries: {}, labels: {}'.format(len(train_data), len(train_labels)))"
   ]
  },
  {
   "cell_type": "code",
   "execution_count": 7,
   "metadata": {},
   "outputs": [
    {
     "name": "stdout",
     "output_type": "stream",
     "text": [
      "[1, 14, 22, 16, 43, 530, 973, 1622, 1385, 65, 458, 4468, 66, 3941, 4, 173, 36, 256, 5, 25, 100, 43, 838, 112, 50, 670, 2, 9, 35, 480, 284, 5, 150, 4, 172, 112, 167, 2, 336, 385, 39, 4, 172, 4536, 1111, 17, 546, 38, 13, 447, 4, 192, 50, 16, 6, 147, 2025, 19, 14, 22, 4, 1920, 4613, 469, 4, 22, 71, 87, 12, 16, 43, 530, 38, 76, 15, 13, 1247, 4, 22, 17, 515, 17, 12, 16, 626, 18, 2, 5, 62, 386, 12, 8, 316, 8, 106, 5, 4, 2223, 5244, 16, 480, 66, 3785, 33, 4, 130, 12, 16, 38, 619, 5, 25, 124, 51, 36, 135, 48, 25, 1415, 33, 6, 22, 12, 215, 28, 77, 52, 5, 14, 407, 16, 82, 2, 8, 4, 107, 117, 5952, 15, 256, 4, 2, 7, 3766, 5, 723, 36, 71, 43, 530, 476, 26, 400, 317, 46, 7, 4, 2, 1029, 13, 104, 88, 4, 381, 15, 297, 98, 32, 2071, 56, 26, 141, 6, 194, 7486, 18, 4, 226, 22, 21, 134, 476, 26, 480, 5, 144, 30, 5535, 18, 51, 36, 28, 224, 92, 25, 104, 4, 226, 65, 16, 38, 1334, 88, 12, 16, 283, 5, 16, 4472, 113, 103, 32, 15, 16, 5345, 19, 178, 32]\n"
     ]
    }
   ],
   "source": [
    "print(train_data[0])"
   ]
  },
  {
   "cell_type": "code",
   "execution_count": 8,
   "metadata": {},
   "outputs": [
    {
     "data": {
      "text/plain": [
       "(218, 189)"
      ]
     },
     "execution_count": 8,
     "metadata": {},
     "output_type": "execute_result"
    }
   ],
   "source": [
    "len(train_data[0]), len(train_data[1])"
   ]
  },
  {
   "cell_type": "markdown",
   "metadata": {},
   "source": [
    "#### Make dictionary to convert ints back to words"
   ]
  },
  {
   "cell_type": "code",
   "execution_count": 12,
   "metadata": {},
   "outputs": [],
   "source": [
    "word_index = imdb.get_word_index()\n",
    "\n",
    "word_index = {k:(v+3) for k,v in word_index.items()}\n",
    "word_index['<PAD>'] = 0\n",
    "word_index['<START>'] = 1\n",
    "word_index['<UNK>'] = 2 #unknown.....\n",
    "word_index['<UNUSED>'] = 3\n",
    "\n",
    "reverse_word_index = dict([(value, key) for (key, value) in word_index.items()])\n",
    "\n",
    "def decode_review(text):\n",
    "    return ' '.join([reverse_word_index.get(i, '?') for i in text])"
   ]
  },
  {
   "cell_type": "code",
   "execution_count": 10,
   "metadata": {},
   "outputs": [
    {
     "data": {
      "text/plain": [
       "\"<START> this film was just brilliant casting location scenery story direction everyone's really suited the part they played and you could just imagine being there robert <UNK> is an amazing actor and now the same being director <UNK> father came from the same scottish island as myself so i loved the fact there was a real connection with this film the witty remarks throughout the film were great it was just brilliant so much that i bought the film as soon as it was released for <UNK> and would recommend it to everyone to watch and the fly fishing was amazing really cried at the end it was so sad and you know what they say if you cry at a film it must have been good and this definitely was also <UNK> to the two little boy's that played the <UNK> of norman and paul they were just brilliant children are often left out of the <UNK> list i think because the stars that play them all grown up are such a big profile for the whole film but these children are amazing and should be praised for what they have done don't you think the whole story was so lovely because it was true and was someone's life after all that was shared with us all\""
      ]
     },
     "execution_count": 10,
     "metadata": {},
     "output_type": "execute_result"
    }
   ],
   "source": [
    "decode_review(train_data[0])"
   ]
  },
  {
   "cell_type": "code",
   "execution_count": 13,
   "metadata": {},
   "outputs": [],
   "source": [
    "train_data = keras.preprocessing.sequence.pad_sequences(train_data,\n",
    "                                                        value=word_index[\"<PAD>\"],\n",
    "                                                        padding='post',\n",
    "                                                        maxlen=256)\n",
    "\n",
    "test_data = keras.preprocessing.sequence.pad_sequences(test_data,\n",
    "                                                       value=word_index[\"<PAD>\"],\n",
    "                                                       padding='post',\n",
    "                                                       maxlen=256)"
   ]
  },
  {
   "cell_type": "code",
   "execution_count": 14,
   "metadata": {},
   "outputs": [
    {
     "data": {
      "text/plain": [
       "(256, 256)"
      ]
     },
     "execution_count": 14,
     "metadata": {},
     "output_type": "execute_result"
    }
   ],
   "source": [
    "len(train_data[0]), len(train_data[1])"
   ]
  },
  {
   "cell_type": "code",
   "execution_count": 16,
   "metadata": {
    "scrolled": false
   },
   "outputs": [
    {
     "name": "stdout",
     "output_type": "stream",
     "text": [
      "[   1  194 1153  194 8255   78  228    5    6 1463 4369 5012  134   26\n",
      "    4  715    8  118 1634   14  394   20   13  119  954  189  102    5\n",
      "  207  110 3103   21   14   69  188    8   30   23    7    4  249  126\n",
      "   93    4  114    9 2300 1523    5  647    4  116    9   35 8163    4\n",
      "  229    9  340 1322    4  118    9    4  130 4901   19    4 1002    5\n",
      "   89   29  952   46   37    4  455    9   45   43   38 1543 1905  398\n",
      "    4 1649   26 6853    5  163   11 3215    2    4 1153    9  194  775\n",
      "    7 8255    2  349 2637  148  605    2 8003   15  123  125   68    2\n",
      " 6853   15  349  165 4362   98    5    4  228    9   43    2 1157   15\n",
      "  299  120    5  120  174   11  220  175  136   50    9 4373  228 8255\n",
      "    5    2  656  245 2350    5    4 9837  131  152  491   18    2   32\n",
      " 7464 1212   14    9    6  371   78   22  625   64 1382    9    8  168\n",
      "  145   23    4 1690   15   16    4 1355    5   28    6   52  154  462\n",
      "   33   89   78  285   16  145   95    0    0    0    0    0    0    0\n",
      "    0    0    0    0    0    0    0    0    0    0    0    0    0    0\n",
      "    0    0    0    0    0    0    0    0    0    0    0    0    0    0\n",
      "    0    0    0    0    0    0    0    0    0    0    0    0    0    0\n",
      "    0    0    0    0    0    0    0    0    0    0    0    0    0    0\n",
      "    0    0    0    0]\n"
     ]
    }
   ],
   "source": [
    "print(train_data[1])"
   ]
  },
  {
   "cell_type": "markdown",
   "metadata": {},
   "source": [
    "## Build model"
   ]
  },
  {
   "cell_type": "code",
   "execution_count": 17,
   "metadata": {},
   "outputs": [],
   "source": [
    "vocab_size = 10000"
   ]
  },
  {
   "cell_type": "code",
   "execution_count": 18,
   "metadata": {},
   "outputs": [
    {
     "name": "stdout",
     "output_type": "stream",
     "text": [
      "Model: \"sequential\"\n",
      "_________________________________________________________________\n",
      "Layer (type)                 Output Shape              Param #   \n",
      "=================================================================\n",
      "embedding (Embedding)        (None, None, 16)          160000    \n",
      "_________________________________________________________________\n",
      "global_average_pooling1d (Gl (None, 16)                0         \n",
      "_________________________________________________________________\n",
      "dense (Dense)                (None, 16)                272       \n",
      "_________________________________________________________________\n",
      "dense_1 (Dense)              (None, 1)                 17        \n",
      "=================================================================\n",
      "Total params: 160,289\n",
      "Trainable params: 160,289\n",
      "Non-trainable params: 0\n",
      "_________________________________________________________________\n"
     ]
    }
   ],
   "source": [
    "model = keras.Sequential()\n",
    "model.add(keras.layers.Embedding(vocab_size, 16))\n",
    "model.add(keras.layers.GlobalAveragePooling1D())\n",
    "model.add(keras.layers.Dense(16, activation='relu'))\n",
    "model.add(keras.layers.Dense(1, activation='sigmoid'))\n",
    "\n",
    "model.summary()"
   ]
  },
  {
   "cell_type": "code",
   "execution_count": 19,
   "metadata": {},
   "outputs": [],
   "source": [
    "model.compile(optimizer='adam',\n",
    "             loss='binary_crossentropy',\n",
    "             metrics=['accuracy'])"
   ]
  },
  {
   "cell_type": "markdown",
   "metadata": {},
   "source": [
    "#### Create validation set"
   ]
  },
  {
   "cell_type": "code",
   "execution_count": 20,
   "metadata": {},
   "outputs": [],
   "source": [
    "x_val = train_data[:10000]\n",
    "partial_x_train = train_data[10000:]\n",
    "\n",
    "y_val = train_labels[:10000]\n",
    "partial_y_train = train_labels[10000:]"
   ]
  },
  {
   "cell_type": "markdown",
   "metadata": {},
   "source": [
    "#### Train model"
   ]
  },
  {
   "cell_type": "code",
   "execution_count": 21,
   "metadata": {},
   "outputs": [
    {
     "name": "stdout",
     "output_type": "stream",
     "text": [
      "Train on 15000 samples, validate on 10000 samples\n",
      "Epoch 1/40\n",
      "15000/15000 [==============================] - 2s 135us/sample - loss: 0.6920 - accuracy: 0.5546 - val_loss: 0.6900 - val_accuracy: 0.6317\n",
      "Epoch 2/40\n",
      "15000/15000 [==============================] - 1s 63us/sample - loss: 0.6861 - accuracy: 0.6940 - val_loss: 0.6820 - val_accuracy: 0.7216\n",
      "Epoch 3/40\n",
      "15000/15000 [==============================] - 1s 63us/sample - loss: 0.6731 - accuracy: 0.7417 - val_loss: 0.6655 - val_accuracy: 0.7518\n",
      "Epoch 4/40\n",
      "15000/15000 [==============================] - 1s 63us/sample - loss: 0.6507 - accuracy: 0.7561 - val_loss: 0.6402 - val_accuracy: 0.7617\n",
      "Epoch 5/40\n",
      "15000/15000 [==============================] - 1s 62us/sample - loss: 0.6180 - accuracy: 0.7888 - val_loss: 0.6060 - val_accuracy: 0.7855\n",
      "Epoch 6/40\n",
      "15000/15000 [==============================] - 1s 68us/sample - loss: 0.5762 - accuracy: 0.8110 - val_loss: 0.5656 - val_accuracy: 0.8013\n",
      "Epoch 7/40\n",
      "15000/15000 [==============================] - 1s 65us/sample - loss: 0.5292 - accuracy: 0.8258 - val_loss: 0.5214 - val_accuracy: 0.8195\n",
      "Epoch 8/40\n",
      "15000/15000 [==============================] - 1s 66us/sample - loss: 0.4819 - accuracy: 0.8457 - val_loss: 0.4802 - val_accuracy: 0.8323\n",
      "Epoch 9/40\n",
      "15000/15000 [==============================] - 1s 63us/sample - loss: 0.4377 - accuracy: 0.8593 - val_loss: 0.4431 - val_accuracy: 0.8437\n",
      "Epoch 10/40\n",
      "15000/15000 [==============================] - 1s 66us/sample - loss: 0.3986 - accuracy: 0.8728 - val_loss: 0.4124 - val_accuracy: 0.8508\n",
      "Epoch 11/40\n",
      "15000/15000 [==============================] - 1s 66us/sample - loss: 0.3655 - accuracy: 0.8809 - val_loss: 0.3870 - val_accuracy: 0.8593\n",
      "Epoch 12/40\n",
      "15000/15000 [==============================] - 1s 66us/sample - loss: 0.3377 - accuracy: 0.8885 - val_loss: 0.3676 - val_accuracy: 0.8612\n",
      "Epoch 13/40\n",
      "15000/15000 [==============================] - 1s 66us/sample - loss: 0.3149 - accuracy: 0.8956 - val_loss: 0.3504 - val_accuracy: 0.8671\n",
      "Epoch 14/40\n",
      "15000/15000 [==============================] - 1s 65us/sample - loss: 0.2945 - accuracy: 0.9005 - val_loss: 0.3378 - val_accuracy: 0.8711\n",
      "Epoch 15/40\n",
      "15000/15000 [==============================] - 1s 64us/sample - loss: 0.2775 - accuracy: 0.9047 - val_loss: 0.3274 - val_accuracy: 0.8740\n",
      "Epoch 16/40\n",
      "15000/15000 [==============================] - 1s 64us/sample - loss: 0.2622 - accuracy: 0.9101 - val_loss: 0.3188 - val_accuracy: 0.8750\n",
      "Epoch 17/40\n",
      "15000/15000 [==============================] - 1s 66us/sample - loss: 0.2481 - accuracy: 0.9149 - val_loss: 0.3116 - val_accuracy: 0.8779\n",
      "Epoch 18/40\n",
      "15000/15000 [==============================] - 1s 68us/sample - loss: 0.2357 - accuracy: 0.9195 - val_loss: 0.3054 - val_accuracy: 0.8800\n",
      "Epoch 19/40\n",
      "15000/15000 [==============================] - 1s 64us/sample - loss: 0.2245 - accuracy: 0.9221 - val_loss: 0.3003 - val_accuracy: 0.8810\n",
      "Epoch 20/40\n",
      "15000/15000 [==============================] - 1s 64us/sample - loss: 0.2143 - accuracy: 0.9257 - val_loss: 0.2967 - val_accuracy: 0.8813\n",
      "Epoch 21/40\n",
      "15000/15000 [==============================] - 1s 65us/sample - loss: 0.2041 - accuracy: 0.9309 - val_loss: 0.2936 - val_accuracy: 0.8822\n",
      "Epoch 22/40\n",
      "15000/15000 [==============================] - 1s 65us/sample - loss: 0.1955 - accuracy: 0.9329 - val_loss: 0.2908 - val_accuracy: 0.8833\n",
      "Epoch 23/40\n",
      "15000/15000 [==============================] - 1s 64us/sample - loss: 0.1868 - accuracy: 0.9375 - val_loss: 0.2897 - val_accuracy: 0.8830\n",
      "Epoch 24/40\n",
      "15000/15000 [==============================] - 1s 64us/sample - loss: 0.1793 - accuracy: 0.9412 - val_loss: 0.2879 - val_accuracy: 0.8848\n",
      "Epoch 25/40\n",
      "15000/15000 [==============================] - 1s 62us/sample - loss: 0.1716 - accuracy: 0.9448 - val_loss: 0.2863 - val_accuracy: 0.8848\n",
      "Epoch 26/40\n",
      "15000/15000 [==============================] - 1s 63us/sample - loss: 0.1648 - accuracy: 0.9472 - val_loss: 0.2867 - val_accuracy: 0.8831\n",
      "Epoch 27/40\n",
      "15000/15000 [==============================] - 1s 64us/sample - loss: 0.1582 - accuracy: 0.9500 - val_loss: 0.2860 - val_accuracy: 0.8843\n",
      "Epoch 28/40\n",
      "15000/15000 [==============================] - 1s 65us/sample - loss: 0.1520 - accuracy: 0.9533 - val_loss: 0.2863 - val_accuracy: 0.8849\n",
      "Epoch 29/40\n",
      "15000/15000 [==============================] - 1s 65us/sample - loss: 0.1466 - accuracy: 0.9557 - val_loss: 0.2877 - val_accuracy: 0.8836\n",
      "Epoch 30/40\n",
      "15000/15000 [==============================] - 1s 63us/sample - loss: 0.1409 - accuracy: 0.9572 - val_loss: 0.2870 - val_accuracy: 0.8861\n",
      "Epoch 31/40\n",
      "15000/15000 [==============================] - 1s 65us/sample - loss: 0.1351 - accuracy: 0.9604 - val_loss: 0.2879 - val_accuracy: 0.8868\n",
      "Epoch 32/40\n",
      "15000/15000 [==============================] - 1s 64us/sample - loss: 0.1299 - accuracy: 0.9622 - val_loss: 0.2891 - val_accuracy: 0.8866\n",
      "Epoch 33/40\n",
      "15000/15000 [==============================] - 1s 63us/sample - loss: 0.1248 - accuracy: 0.9643 - val_loss: 0.2912 - val_accuracy: 0.8853\n",
      "Epoch 34/40\n",
      "15000/15000 [==============================] - 1s 68us/sample - loss: 0.1203 - accuracy: 0.9661 - val_loss: 0.2931 - val_accuracy: 0.8855\n",
      "Epoch 35/40\n",
      "15000/15000 [==============================] - 1s 63us/sample - loss: 0.1162 - accuracy: 0.9665 - val_loss: 0.2954 - val_accuracy: 0.8855\n",
      "Epoch 36/40\n",
      "15000/15000 [==============================] - 1s 63us/sample - loss: 0.1117 - accuracy: 0.9693 - val_loss: 0.2970 - val_accuracy: 0.8846\n",
      "Epoch 37/40\n",
      "15000/15000 [==============================] - 1s 66us/sample - loss: 0.1073 - accuracy: 0.9700 - val_loss: 0.2995 - val_accuracy: 0.8847\n",
      "Epoch 38/40\n",
      "15000/15000 [==============================] - 1s 62us/sample - loss: 0.1033 - accuracy: 0.9716 - val_loss: 0.3028 - val_accuracy: 0.8830\n",
      "Epoch 39/40\n",
      "15000/15000 [==============================] - 1s 64us/sample - loss: 0.1001 - accuracy: 0.9727 - val_loss: 0.3061 - val_accuracy: 0.8821\n",
      "Epoch 40/40\n",
      "15000/15000 [==============================] - 1s 65us/sample - loss: 0.0960 - accuracy: 0.9747 - val_loss: 0.3087 - val_accuracy: 0.8829\n"
     ]
    }
   ],
   "source": [
    "history = model.fit(partial_x_train,\n",
    "                   partial_y_train,\n",
    "                   epochs = 40,\n",
    "                   batch_size=512,\n",
    "                   validation_data=(x_val, y_val),\n",
    "                   verbose=1)"
   ]
  },
  {
   "cell_type": "code",
   "execution_count": 22,
   "metadata": {},
   "outputs": [
    {
     "name": "stdout",
     "output_type": "stream",
     "text": [
      "25000/25000 [==============================] - 1s 26us/sample - loss: 0.3293 - accuracy: 0.8718\n",
      "[0.32934878979682924, 0.8718]\n"
     ]
    }
   ],
   "source": [
    "results = model.evaluate(test_data, test_labels)\n",
    "\n",
    "print(results)"
   ]
  },
  {
   "cell_type": "markdown",
   "metadata": {},
   "source": [
    "#### model.fit() returns a History object that contains a dictionary with everything that happend during trianing"
   ]
  },
  {
   "cell_type": "code",
   "execution_count": 23,
   "metadata": {},
   "outputs": [
    {
     "data": {
      "text/plain": [
       "dict_keys(['loss', 'accuracy', 'val_loss', 'val_accuracy'])"
      ]
     },
     "execution_count": 23,
     "metadata": {},
     "output_type": "execute_result"
    }
   ],
   "source": [
    "history_dict = history.history\n",
    "history_dict.keys()"
   ]
  },
  {
   "cell_type": "code",
   "execution_count": 29,
   "metadata": {},
   "outputs": [
    {
     "data": {
      "image/png": "[encoded data removed]",
      "text/plain": [
       "<Figure size 460.8x403.2 with 1 Axes>"
      ]
     },
     "metadata": {},
     "output_type": "display_data"
    }
   ],
   "source": [
    "import matplotlib.pyplot as plt\n",
    "from jupyterthemes import jtplot\n",
    "\n",
    "acc = history_dict['accuracy']\n",
    "val_acc = history_dict['val_accuracy']\n",
    "loss = history_dict['loss']\n",
    "val_loss = history_dict['val_loss']\n",
    "\n",
    "epochs = range(1, len(acc) + 1)\n",
    "\n",
    "# 'bo' is for 'green dot'\n",
    "plt.plot(epochs, loss, 'go', label='Training loss')\n",
    "#'b' is for 'solid green line'\n",
    "plt.plot(epochs, val_loss, 'g', label='Validation Loss')\n",
    "plt.title('Training and validation loss')\n",
    "plt.xlabel('Epochs')\n",
    "plt.ylabel('Loss')\n",
    "plt.legend()\n",
    "\n",
    "\n",
    "plt.show()"
   ]
  },
  {
   "cell_type": "code",
   "execution_count": 31,
   "metadata": {},
   "outputs": [
    {
     "data": {
      "image/png": "[encoded data removed]",
      "text/plain": [
       "<Figure size 460.8x403.2 with 1 Axes>"
      ]
     },
     "metadata": {},
     "output_type": "display_data"
    }
   ],
   "source": [
    "plt.clf() #clear figure\n",
    "\n",
    "plt.plot(epochs, acc, 'go', label='Training acc')\n",
    "plt.plot(epochs, val_acc, 'g', label='Validation acc')\n",
    "plt.title('Training and validation accuracy')\n",
    "plt.xlabel('Epochs')\n",
    "plt.ylabel('Accuracy')\n",
    "plt.legend()\n",
    "\n",
    "plt.show()"
   ]
  },
  {
   "cell_type": "markdown",
   "metadata": {},
   "source": [
    "Validation loss and acc peak at ~20 epochs.  MODEL IS OVERFITTED.  It performs better on the training data than it does on 'unseen' data.  After ~20 epochs it learns representaions SPECIFIC to the training data.  It is memorizing instead of generalizing."
   ]
  }
 ],
 "metadata": {
  "kernelspec": {
   "display_name": "Python 3",
   "language": "python",
   "name": "python3"
  },
  "language_info": {
   "codemirror_mode": {
    "name": "ipython",
    "version": 3
   },
   "file_extension": ".py",
   "mimetype": "text/x-python",
   "name": "python",
   "nbconvert_exporter": "python",
   "pygments_lexer": "ipython3",
   "version": "3.6.5"
  }
 },
 "nbformat": 4,
 "nbformat_minor": 2
}
